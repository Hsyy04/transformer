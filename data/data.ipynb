{
 "cells": [
  {
   "cell_type": "code",
   "execution_count": 2,
   "metadata": {},
   "outputs": [
    {
     "name": "stdout",
     "output_type": "stream",
     "text": [
      "(29155, 2)\n",
      "[['Hi.' '嗨。']\n",
      " ['Hi.' '你好。']\n",
      " ['Run.' '你用跑的。']\n",
      " ['Stop!' '住手！']\n",
      " ['Wait!' '等等！']]\n"
     ]
    }
   ],
   "source": [
    "import pandas as pd \n",
    "import numpy as np\n",
    "import os\n",
    "\n",
    "path = \"en_fanti.txt\"\n",
    "\n",
    "with open(path, 'r', encoding='UTF-8') as f:\n",
    "    data_raw = f.readlines()\n",
    "\n",
    "data = []\n",
    "for line in data_raw:\n",
    "    data.append([line.split('\\t')[0], line.split('\\t')[1]])\n",
    "data = np.array(data)\n",
    "\n",
    "with open('sent_pairs.txt', 'w+', encoding='UTF-8') as f:\n",
    "    for sent in data:\n",
    "        f.write(f\"{sent[0]}\\t{sent[1]}\\n\")\n",
    "\n",
    "print(data.shape)\n",
    "print(data[:5])"
   ]
  },
  {
   "cell_type": "code",
   "execution_count": 3,
   "metadata": {},
   "outputs": [
    {
     "name": "stderr",
     "output_type": "stream",
     "text": [
      "Building prefix dict from the default dictionary ...\n",
      "Loading model from cache C:\\Users\\Hsyy04\\AppData\\Local\\Temp\\jieba.cache\n",
      "Loading model cost 0.659 seconds.\n",
      "Prefix dict has been built successfully.\n"
     ]
    }
   ],
   "source": [
    "import jieba\n",
    "import pickle\n",
    "from collections import Counter\n",
    "\n",
    "src_all = []\n",
    "tar_all = []\n",
    "\n",
    "for sent in data:\n",
    "    src = sent[0]\n",
    "    tar = sent[1]\n",
    "    words_src = src.split(' ')\n",
    "    src_all.extend(words_src)\n",
    "    words_tar = jieba.lcut(tar)\n",
    "    tar_all.extend(words_tar)\n",
    "\n",
    "dict_src = Counter(src_all)\n",
    "dict_tar = Counter(tar_all)\n",
    "words_src_all = []\n",
    "words_src_all.append(\"<pad>\")\n",
    "for k,v in dict_src.items():\n",
    "    if v>1: words_src_all.append(k)\n",
    "words_src_all.append(\"<unk>\")\n",
    "words_src_all.append(\"<eos>\")\n",
    "words_src_all.append(\"<start>\")\n",
    "# src_word2id = dict([(w,i) for i,w in enumerate(words_src_all)])\n",
    "# src_id2word = dict([(i,w) for i,w in enumerate(words_src_all)])\n",
    "\n",
    "words_tar_all = []\n",
    "words_tar_all.append(\"<pad>\")\n",
    "for k,v in dict_tar.items():\n",
    "    if v>1: words_tar_all.append(k)\n",
    "words_tar_all.append(\"<unk>\")\n",
    "words_tar_all.append(\"<eos>\")\n",
    "words_tar_all.append(\"<start>\")\n",
    "# tar_word2id = dict([(w,i) for i,w in enumerate(words_tar_all)])\n",
    "# tar_id2word = dict([(i,w) for i,w in enumerate(words_tar_all)])"
   ]
  },
  {
   "cell_type": "code",
   "execution_count": 4,
   "metadata": {},
   "outputs": [],
   "source": [
    "with open('dict_en.txt','w+', encoding='UTF-8') as f:\n",
    "    for i,w in enumerate(words_src_all):\n",
    "        f.write(f\"{w}\\n\")\n",
    "with open('dict_ch.txt','w+', encoding='UTF-8') as f:\n",
    "    for i,w in enumerate(words_tar_all):\n",
    "        f.write(f\"{w}\\n\")"
   ]
  }
 ],
 "metadata": {
  "interpreter": {
   "hash": "5f710ce0216950a785dca8a3efb9156cb008195e8c6c32c2d0bf3c0477bbae4e"
  },
  "kernelspec": {
   "display_name": "Python 3.9.6 64-bit",
   "language": "python",
   "name": "python3"
  },
  "language_info": {
   "codemirror_mode": {
    "name": "ipython",
    "version": 3
   },
   "file_extension": ".py",
   "mimetype": "text/x-python",
   "name": "python",
   "nbconvert_exporter": "python",
   "pygments_lexer": "ipython3",
   "version": "3.9.6"
  },
  "orig_nbformat": 4
 },
 "nbformat": 4,
 "nbformat_minor": 2
}
